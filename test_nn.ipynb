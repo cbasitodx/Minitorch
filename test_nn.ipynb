{
 "cells": [
  {
   "cell_type": "code",
   "execution_count": 9,
   "metadata": {},
   "outputs": [],
   "source": [
    "from minitorch.engine import Value\n",
    "\n",
    "from minitorch.nn import *\n",
    "\n",
    "from minitorch.tensor import Tensor\n",
    "\n",
    "from typing import List"
   ]
  },
  {
   "cell_type": "markdown",
   "metadata": {},
   "source": [
    "# Use case: Creation of a Neural Network"
   ]
  },
  {
   "cell_type": "code",
   "execution_count": 2,
   "metadata": {},
   "outputs": [],
   "source": [
    "class MLP(Module):\n",
    "    def __init__(self):\n",
    "        self.layers = Sequential(\n",
    "            Linear(2,3),\n",
    "            ReLU(),\n",
    "            Linear(3,1),\n",
    "            Sigmoid()\n",
    "        )\n",
    "    \n",
    "    def forward(self, input : List[float]):\n",
    "        \n",
    "        # We convert the input to a tensor\n",
    "        input = Tensor(input)\n",
    "\n",
    "        # Now we do the forward pass\n",
    "        return self.layers(input)"
   ]
  },
  {
   "cell_type": "code",
   "execution_count": 3,
   "metadata": {},
   "outputs": [
    {
     "name": "stdout",
     "output_type": "stream",
     "text": [
      "Tensor([Value(data=0.4657842909200023, grad=0)])\n"
     ]
    }
   ],
   "source": [
    "model = MLP()\n",
    "res = model.forward([-10,10])\n",
    "print(res)"
   ]
  },
  {
   "cell_type": "code",
   "execution_count": 4,
   "metadata": {},
   "outputs": [],
   "source": [
    "def MSE(output : Tensor, label : Tensor):\n",
    "    o = list(output)[0]\n",
    "    l = list(label)[0]\n",
    "    return (o - l)**2"
   ]
  },
  {
   "cell_type": "code",
   "execution_count": 5,
   "metadata": {},
   "outputs": [],
   "source": [
    "from graphviz import Digraph\n",
    "\n",
    "def trace(root):\n",
    "  # builds a set of all nodes and edges in a graph\n",
    "  nodes, edges = set(), set()\n",
    "  def build(v):\n",
    "    if v not in nodes:\n",
    "      nodes.add(v)\n",
    "      for child in v.getChildren():\n",
    "        edges.add((child, v))\n",
    "        build(child)\n",
    "  build(root)\n",
    "  return nodes, edges\n",
    "\n",
    "def draw_dot(root):\n",
    "  dot = Digraph(format='svg', graph_attr={'rankdir': 'LR'}) # LR = left to right\n",
    "  \n",
    "  nodes, edges = trace(root)\n",
    "  for n in nodes:\n",
    "    uid = str(id(n))\n",
    "    # for any value in the graph, create a rectangular ('record') node for it\n",
    "    dot.node(name = uid, label = \"{ %s | data %.4f | grad %.4f }\" % (n.label, n.data, n.grad), shape='record')\n",
    "    if n.getOperation():\n",
    "      # if this value is a result of some operation, create an op node for it\n",
    "      dot.node(name = uid + n.getOperation(), label = n.getOperation())\n",
    "      # and connect this node to it\n",
    "      dot.edge(uid + n.getOperation(), uid)\n",
    "\n",
    "  for n1, n2 in edges:\n",
    "    # connect n1 to the op node of n2\n",
    "    dot.edge(str(id(n1)), str(id(n2)) + n2.getOperation())\n",
    "\n",
    "  return dot"
   ]
  },
  {
   "cell_type": "code",
   "execution_count": 6,
   "metadata": {},
   "outputs": [],
   "source": [
    "data = [[0,0], [0,1], [1,0], [1,1]]\n",
    "label = [[0,], [0,], [0,], [1,]] # AND function\n",
    "\n",
    "lr = 0.5\n",
    "\n",
    "epoch = 100\n",
    "for i in range(epoch):\n",
    "    for d, l in zip(data,label):\n",
    "        \n",
    "        output = model.forward(d)\n",
    "        \n",
    "        tensor_label = Tensor(l)\n",
    "\n",
    "        model.zero_grad()\n",
    "        loss = MSE(output, tensor_label)\n",
    "\n",
    "        loss.backward()\n",
    "\n",
    "        for p in model.parameters():\n",
    "            p.data -= lr * p.grad\n",
    "        "
   ]
  },
  {
   "cell_type": "code",
   "execution_count": 7,
   "metadata": {},
   "outputs": [
    {
     "data": {
      "text/plain": [
       "Tensor([Value(data=0.955935451977591, grad=0)])"
      ]
     },
     "execution_count": 7,
     "metadata": {},
     "output_type": "execute_result"
    }
   ],
   "source": [
    "output = model.forward(data[3])\n",
    "output"
   ]
  }
 ],
 "metadata": {
  "kernelspec": {
   "display_name": "venv",
   "language": "python",
   "name": "python3"
  },
  "language_info": {
   "codemirror_mode": {
    "name": "ipython",
    "version": 3
   },
   "file_extension": ".py",
   "mimetype": "text/x-python",
   "name": "python",
   "nbconvert_exporter": "python",
   "pygments_lexer": "ipython3",
   "version": "3.10.12"
  }
 },
 "nbformat": 4,
 "nbformat_minor": 2
}
