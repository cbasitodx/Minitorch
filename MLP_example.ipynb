{
 "cells": [
  {
   "cell_type": "code",
   "execution_count": 139,
   "metadata": {},
   "outputs": [],
   "source": [
    "from minitorch.engine import Value\n",
    "from minitorch.nn import *\n",
    "from minitorch.tensor import Tensor\n",
    "from typing import List"
   ]
  },
  {
   "cell_type": "markdown",
   "metadata": {},
   "source": [
    "# Use case: Creation of a Neural Network"
   ]
  },
  {
   "cell_type": "code",
   "execution_count": 140,
   "metadata": {},
   "outputs": [],
   "source": [
    "class MLP(Module):\n",
    "    def __init__(self):\n",
    "        self.layers = Sequential(\n",
    "            Linear(2,3),\n",
    "            ReLU(),\n",
    "            Linear(3,1),\n",
    "            Sigmoid()\n",
    "        )\n",
    "    \n",
    "    def forward(self, input : List[float]):\n",
    "        \n",
    "        # We convert the input to a tensor\n",
    "        input = Tensor(input)\n",
    "\n",
    "        # Now we do the forward pass\n",
    "        return self.layers(input)"
   ]
  },
  {
   "cell_type": "code",
   "execution_count": 141,
   "metadata": {},
   "outputs": [
    {
     "name": "stdout",
     "output_type": "stream",
     "text": [
      "Tensor([Value(data=0.040677792337668515, grad=0)])\n"
     ]
    }
   ],
   "source": [
    "model = MLP()\n",
    "res = model.forward([-10,10])\n",
    "print(res)"
   ]
  },
  {
   "cell_type": "code",
   "execution_count": 142,
   "metadata": {},
   "outputs": [],
   "source": [
    "def MSE(output : Tensor, label : Tensor) -> Value:\n",
    "    o = list(output)[0]\n",
    "    l = list(label)[0]\n",
    "    return (o - l)**2"
   ]
  },
  {
   "cell_type": "code",
   "execution_count": 143,
   "metadata": {},
   "outputs": [],
   "source": [
    "data = [[0,0], [0,1], [1,0], [1,1]]\n",
    "label = [[0,], [0,], [0,], [1,]] # AND function\n",
    "\n",
    "lr = 0.5\n",
    "\n",
    "epoch = 100\n",
    "for i in range(epoch):\n",
    "    for d, l in zip(data,label):\n",
    "        \n",
    "        output = model.forward(d)\n",
    "        \n",
    "        tensor_label = Tensor(l)\n",
    "\n",
    "        model.zero_grad()\n",
    "        loss = MSE(output, tensor_label)\n",
    "\n",
    "        loss.backward()\n",
    "\n",
    "        for p in model.parameters():\n",
    "            p.data -= lr * p.grad\n",
    "        "
   ]
  },
  {
   "cell_type": "code",
   "execution_count": 144,
   "metadata": {},
   "outputs": [
    {
     "data": {
      "text/plain": [
       "Tensor([Value(data=0.8790888710360797, grad=0)])"
      ]
     },
     "execution_count": 144,
     "metadata": {},
     "output_type": "execute_result"
    }
   ],
   "source": [
    "output = model.forward(data[3])\n",
    "output"
   ]
  }
 ],
 "metadata": {
  "kernelspec": {
   "display_name": "venv",
   "language": "python",
   "name": "python3"
  },
  "language_info": {
   "codemirror_mode": {
    "name": "ipython",
    "version": 3
   },
   "file_extension": ".py",
   "mimetype": "text/x-python",
   "name": "python",
   "nbconvert_exporter": "python",
   "pygments_lexer": "ipython3",
   "version": "3.10.12"
  }
 },
 "nbformat": 4,
 "nbformat_minor": 2
}
