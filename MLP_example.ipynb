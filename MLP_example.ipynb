{
 "cells": [
  {
   "cell_type": "code",
   "execution_count": 1,
   "metadata": {},
   "outputs": [],
   "source": [
    "from minitorch.Autograd import Value\n",
    "from minitorch.nn import *\n",
    "from minitorch.Tensor import Tensor\n",
    "from minitorch.optim import SGD"
   ]
  },
  {
   "cell_type": "markdown",
   "metadata": {},
   "source": [
    "# Use case: Creation of a Neural Network"
   ]
  },
  {
   "cell_type": "code",
   "execution_count": 2,
   "metadata": {},
   "outputs": [],
   "source": [
    "class MLP(Module):\n",
    "    def __init__(self):\n",
    "        self.layers = Sequential(\n",
    "            Linear(2,3, seed=25155423),\n",
    "            ReLU(),\n",
    "            Linear(3,1, seed=25155423),\n",
    "            Sigmoid()\n",
    "        )\n",
    "    \n",
    "    def forward(self, input : Tensor):\n",
    "        return self.layers(input)"
   ]
  },
  {
   "cell_type": "code",
   "execution_count": 3,
   "metadata": {},
   "outputs": [],
   "source": [
    "model = MLP()"
   ]
  },
  {
   "cell_type": "code",
   "execution_count": 6,
   "metadata": {},
   "outputs": [],
   "source": [
    "def MSE(output : Tensor, label : Tensor) -> Value:\n",
    "    return (output.item() - label.item())**2"
   ]
  },
  {
   "cell_type": "code",
   "execution_count": 7,
   "metadata": {},
   "outputs": [],
   "source": [
    "optim_sgd = SGD(model.parameters(), lr = 0.01)"
   ]
  },
  {
   "cell_type": "code",
   "execution_count": 8,
   "metadata": {},
   "outputs": [],
   "source": [
    "data  = Tensor([[0,0], [0,1], [1,0], [1,1]])\n",
    "label = Tensor([1,1,1,0]) # AND function\n",
    "n_training_ex = len(data)\n",
    "\n",
    "epoch = 10\n",
    "\n",
    "for i in range(epoch):\n",
    "    for idx in range(n_training_ex):\n",
    "\n",
    "        d = data[idx]\n",
    "        l = label[idx]\n",
    "\n",
    "        output = model.forward(d)\n",
    "        \n",
    "        model.zero_grad()\n",
    "\n",
    "        loss = MSE(output, l)\n",
    "\n",
    "        loss.backward()\n",
    "\n",
    "        optim_sgd.step()\n",
    "    break"
   ]
  },
  {
   "cell_type": "code",
   "execution_count": 15,
   "metadata": {},
   "outputs": [
    {
     "name": "stdout",
     "output_type": "stream",
     "text": [
      "Tensor([Value(data=0.5960993208945123, grad=0)])\n",
      "Tensor([Value(data=0.5953366769294444, grad=0)])\n"
     ]
    }
   ],
   "source": [
    "print(model.forward(data[3]))\n",
    "print(model.forward(data[0]))"
   ]
  },
  {
   "cell_type": "code",
   "execution_count": 8,
   "metadata": {},
   "outputs": [
    {
     "data": {
      "text/plain": [
       "Tensor([Value(data=-0.9046226337131676, grad=0), Value(data=-0.697977840716654, grad=0), Value(data=-0.5163863260257595, grad=0)])"
      ]
     },
     "execution_count": 8,
     "metadata": {},
     "output_type": "execute_result"
    }
   ],
   "source": [
    "import random\n",
    "import math\n",
    "\n",
    "l = Linear(2,3)\n",
    "t = Tensor([1,2])\n",
    "\n",
    "#k : float = 1/2\n",
    "#w = Tensor([[random.uniform(-math.sqrt(k), math.sqrt(k)) for _ in range(2)] for _ in range(3)])\n",
    "#t * w.transpose()\n",
    "\n",
    "l(t)"
   ]
  },
  {
   "cell_type": "code",
   "execution_count": null,
   "metadata": {},
   "outputs": [],
   "source": []
  }
 ],
 "metadata": {
  "kernelspec": {
   "display_name": "venv",
   "language": "python",
   "name": "python3"
  },
  "language_info": {
   "codemirror_mode": {
    "name": "ipython",
    "version": 3
   },
   "file_extension": ".py",
   "mimetype": "text/x-python",
   "name": "python",
   "nbconvert_exporter": "python",
   "pygments_lexer": "ipython3",
   "version": "3.10.12"
  }
 },
 "nbformat": 4,
 "nbformat_minor": 2
}
