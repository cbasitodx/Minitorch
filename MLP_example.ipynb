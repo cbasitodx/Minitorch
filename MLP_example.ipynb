{
 "cells": [
  {
   "cell_type": "code",
   "execution_count": 9,
   "metadata": {},
   "outputs": [],
   "source": [
    "from minitorch.Autograd import Value\n",
    "from minitorch.nn import *\n",
    "from minitorch.Tensor import Tensor\n",
    "from minitorch.optim import SGD"
   ]
  },
  {
   "cell_type": "markdown",
   "metadata": {},
   "source": [
    "# Use case: Creation of a Neural Network"
   ]
  },
  {
   "cell_type": "code",
   "execution_count": 10,
   "metadata": {},
   "outputs": [],
   "source": [
    "class MLP(Module):\n",
    "    def __init__(self):\n",
    "        self.layers = Sequential(\n",
    "            Linear(2,3),\n",
    "            ReLU(),\n",
    "            Linear(3,1),\n",
    "            Sigmoid()\n",
    "        )\n",
    "    \n",
    "    def forward(self, input : Tensor):\n",
    "        return self.layers(input)"
   ]
  },
  {
   "cell_type": "code",
   "execution_count": 11,
   "metadata": {},
   "outputs": [],
   "source": [
    "model = MLP()"
   ]
  },
  {
   "cell_type": "code",
   "execution_count": 12,
   "metadata": {},
   "outputs": [],
   "source": [
    "def MSE(output : Tensor, label : Tensor) -> Value:\n",
    "    o = list(output)[0]\n",
    "    l = list(label)[0]\n",
    "    return (o - l)**2"
   ]
  },
  {
   "cell_type": "code",
   "execution_count": 13,
   "metadata": {},
   "outputs": [],
   "source": [
    "optim_sgd = SGD(model.parameters())"
   ]
  },
  {
   "cell_type": "code",
   "execution_count": 14,
   "metadata": {},
   "outputs": [],
   "source": [
    "data  = Tensor([[0,0], [0,1], [1,0], [1,1]])\n",
    "label = Tensor([[0],[0],[0],[1]]) # AND function\n",
    "n_training_ex = len(data)\n",
    "\n",
    "epoch = 10000\n",
    "\n",
    "for i in range(epoch):\n",
    "    for idx in range(n_training_ex):\n",
    "\n",
    "        d = data[idx]\n",
    "        l = label[idx]\n",
    "\n",
    "        output = model.forward(d)\n",
    "        \n",
    "        model.zero_grad()\n",
    "\n",
    "        loss = MSE(output, l)\n",
    "\n",
    "        loss.backward()\n",
    "\n",
    "        optim_sgd.step()"
   ]
  },
  {
   "cell_type": "code",
   "execution_count": 20,
   "metadata": {},
   "outputs": [
    {
     "data": {
      "text/plain": [
       "Tensor([Value(data=0.568466869468848, grad=0)])"
      ]
     },
     "execution_count": 20,
     "metadata": {},
     "output_type": "execute_result"
    }
   ],
   "source": [
    "output = model.forward(data[3])\n",
    "output"
   ]
  }
 ],
 "metadata": {
  "kernelspec": {
   "display_name": "venv",
   "language": "python",
   "name": "python3"
  },
  "language_info": {
   "codemirror_mode": {
    "name": "ipython",
    "version": 3
   },
   "file_extension": ".py",
   "mimetype": "text/x-python",
   "name": "python",
   "nbconvert_exporter": "python",
   "pygments_lexer": "ipython3",
   "version": "3.10.12"
  }
 },
 "nbformat": 4,
 "nbformat_minor": 2
}
