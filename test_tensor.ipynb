{
 "cells": [
  {
   "cell_type": "code",
   "execution_count": 1,
   "metadata": {},
   "outputs": [],
   "source": [
    "from minitorch.tensor.Tensor import Tensor"
   ]
  },
  {
   "cell_type": "code",
   "execution_count": 2,
   "metadata": {},
   "outputs": [
    {
     "name": "stdout",
     "output_type": "stream",
     "text": [
      "[3, 4, 2]\n"
     ]
    }
   ],
   "source": [
    "t = Tensor([[[1,2], [3,4], [3,4], [3,4]], [[6,7], [8,9], [3,4], [3,4]], [[6,7], [8,9], [3,4], [3,4]]])\n",
    "print(t.shape)"
   ]
  },
  {
   "cell_type": "code",
   "execution_count": 3,
   "metadata": {},
   "outputs": [
    {
     "name": "stdout",
     "output_type": "stream",
     "text": [
      "Tensor([[Value(data=74, grad=0), Value(data=80, grad=0), Value(data=86, grad=0), Value(data=92, grad=0)], [Value(data=173, grad=0), Value(data=188, grad=0), Value(data=203, grad=0), Value(data=218, grad=0)]])\n"
     ]
    }
   ],
   "source": [
    "X = Tensor([[1,2,3],[4,5,6]]) # 2 x 3\n",
    "Y = Tensor([[7,8,9,10],[11,12,13,14],[15,16,17,18]]) # 3 x 4\n",
    "\n",
    "print(X*Y)"
   ]
  },
  {
   "cell_type": "code",
   "execution_count": 2,
   "metadata": {},
   "outputs": [
    {
     "data": {
      "text/plain": [
       "Tensor([Value(data=6, grad=0)])"
      ]
     },
     "execution_count": 2,
     "metadata": {},
     "output_type": "execute_result"
    }
   ],
   "source": [
    "a = Tensor([1,2,3])\n",
    "b = Tensor([[1],[1],[1]])\n",
    "a * b"
   ]
  },
  {
   "cell_type": "code",
   "execution_count": 3,
   "metadata": {},
   "outputs": [
    {
     "data": {
      "text/plain": [
       "Tensor([[Value(data=0, grad=0), Value(data=0, grad=0)], [Value(data=0, grad=0), Value(data=0, grad=0)], [Value(data=0, grad=0), Value(data=0, grad=0)]])"
      ]
     },
     "execution_count": 3,
     "metadata": {},
     "output_type": "execute_result"
    }
   ],
   "source": [
    "x = Tensor([[1,2],[2,3],[3,4]])\n",
    "y = Tensor([[2,3],[3,4],[4,5]])\n",
    "x + y"
   ]
  },
  {
   "cell_type": "code",
   "execution_count": 4,
   "metadata": {},
   "outputs": [
    {
     "data": {
      "text/plain": [
       "[]"
      ]
     },
     "execution_count": 4,
     "metadata": {},
     "output_type": "execute_result"
    }
   ],
   "source": [
    "v = Tensor(3)\n",
    "w = Tensor(4)\n",
    "v.shape"
   ]
  },
  {
   "cell_type": "code",
   "execution_count": 5,
   "metadata": {},
   "outputs": [
    {
     "data": {
      "text/plain": [
       "Tensor(Value(data=12, grad=0))"
      ]
     },
     "execution_count": 5,
     "metadata": {},
     "output_type": "execute_result"
    }
   ],
   "source": [
    "v * w"
   ]
  },
  {
   "cell_type": "code",
   "execution_count": 9,
   "metadata": {},
   "outputs": [
    {
     "data": {
      "text/plain": [
       "Tensor(Value(data=3, grad=0))"
      ]
     },
     "execution_count": 9,
     "metadata": {},
     "output_type": "execute_result"
    }
   ],
   "source": [
    "e1 = Tensor([3])\n",
    "e2 = Tensor([4])"
   ]
  },
  {
   "cell_type": "code",
   "execution_count": null,
   "metadata": {},
   "outputs": [],
   "source": []
  }
 ],
 "metadata": {
  "kernelspec": {
   "display_name": "venv",
   "language": "python",
   "name": "python3"
  },
  "language_info": {
   "codemirror_mode": {
    "name": "ipython",
    "version": 3
   },
   "file_extension": ".py",
   "mimetype": "text/x-python",
   "name": "python",
   "nbconvert_exporter": "python",
   "pygments_lexer": "ipython3",
   "version": "3.10.12"
  }
 },
 "nbformat": 4,
 "nbformat_minor": 2
}
